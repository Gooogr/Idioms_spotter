{
 "cells": [
  {
   "cell_type": "code",
   "execution_count": 1,
   "metadata": {},
   "outputs": [],
   "source": [
    "import pandas as pd\n",
    "import matplotlib.pyplot as plt\n",
    "import seaborn as sns\n",
    "from sklearn.model_selection import train_test_split\n",
    "from datasets import Dataset, DatasetDict\n",
    "from datasets import Value, ClassLabel, Features, Sequence\n",
    "from collections import defaultdict\n",
    "from huggingface_hub import login"
   ]
  },
  {
   "attachments": {},
   "cell_type": "markdown",
   "metadata": {},
   "source": [
    "This notebook convert raw JSONs of PIE and MAGPIE dataset to HuggingFace Dataset format for NER task. "
   ]
  },
  {
   "cell_type": "code",
   "execution_count": 2,
   "metadata": {},
   "outputs": [],
   "source": [
    "PATH_PIE = '../data/raw/PIE_annotations_all_v2.json'\n",
    "PATH_MAGPIE = '../data/raw/magpie-corpus.jsonl'\n",
    "\n",
    "SEED = 42"
   ]
  },
  {
   "attachments": {},
   "cell_type": "markdown",
   "metadata": {},
   "source": [
    "## Read data"
   ]
  },
  {
   "cell_type": "code",
   "execution_count": 3,
   "metadata": {},
   "outputs": [],
   "source": [
    "pie_df = pd.read_json(PATH_PIE)\n",
    "magpie_df = pd.read_json(PATH_MAGPIE, lines=True)"
   ]
  },
  {
   "cell_type": "code",
   "execution_count": 4,
   "metadata": {},
   "outputs": [
    {
     "name": "stdout",
     "output_type": "stream",
     "text": [
      "<class 'pandas.core.frame.DataFrame'>\n",
      "RangeIndex: 2239 entries, 0 to 2238\n",
      "Data columns (total 8 columns):\n",
      " #   Column               Non-Null Count  Dtype \n",
      "---  ------               --------------  ----- \n",
      " 0   sense_label          2239 non-null   object\n",
      " 1   offsets              2239 non-null   object\n",
      " 2   idiom                2239 non-null   object\n",
      " 3   PIE_label            2239 non-null   object\n",
      " 4   sentence_number      2239 non-null   int64 \n",
      " 5   context              2239 non-null   object\n",
      " 6   context_untokenized  2239 non-null   object\n",
      " 7   document_id          2239 non-null   object\n",
      "dtypes: int64(1), object(7)\n",
      "memory usage: 140.1+ KB\n"
     ]
    }
   ],
   "source": [
    "pie_df.info()"
   ]
  },
  {
   "cell_type": "code",
   "execution_count": 5,
   "metadata": {},
   "outputs": [
    {
     "name": "stdout",
     "output_type": "stream",
     "text": [
      "<class 'pandas.core.frame.DataFrame'>\n",
      "RangeIndex: 56622 entries, 0 to 56621\n",
      "Data columns (total 14 columns):\n",
      " #   Column                           Non-Null Count  Dtype  \n",
      "---  ------                           --------------  -----  \n",
      " 0   confidence                       56622 non-null  float64\n",
      " 1   context                          56622 non-null  object \n",
      " 2   document_id                      56622 non-null  object \n",
      " 3   genre                            56622 non-null  object \n",
      " 4   id                               56622 non-null  int64  \n",
      " 5   idiom                            56622 non-null  object \n",
      " 6   judgment_count                   56622 non-null  int64  \n",
      " 7   label                            56622 non-null  object \n",
      " 8   label_distribution               56622 non-null  object \n",
      " 9   non_standard_usage_explanations  56622 non-null  object \n",
      " 10  offsets                          56622 non-null  object \n",
      " 11  sentence_no                      56622 non-null  int64  \n",
      " 12  split                            56622 non-null  object \n",
      " 13  variant_type                     56622 non-null  object \n",
      "dtypes: float64(1), int64(3), object(10)\n",
      "memory usage: 6.0+ MB\n"
     ]
    }
   ],
   "source": [
    "magpie_df.info()"
   ]
  },
  {
   "cell_type": "markdown",
   "metadata": {},
   "source": [
    "## Prepare PIE data"
   ]
  },
  {
   "cell_type": "code",
   "execution_count": 6,
   "metadata": {},
   "outputs": [],
   "source": [
    "def tokenize_text(text: str, offsets: list[list[int]]=None) -> tuple[list[str], list[str]]:\n",
    "    '''\n",
    "    Apply word tokenization for input text and marked NER tokens. Each token in the source \n",
    "    line is assumed to be separated by a space. Code uses IOB format.\n",
    "    Args:\n",
    "        text (str): Input text\n",
    "        offsets (list[list[int]]): comprehended list with start:end indecies of each NER in text\n",
    "    Returns:\n",
    "        word_tokens (list[str]): list of word tokens\n",
    "        pie_tokens (list[str]): list of coresponded NER labels\n",
    "\n",
    "    Example:\n",
    "    text: 'The deal was negotiated behind closed doors .'    \n",
    "    offsets: [[24, 30], [31, 37], [38, 44]]\n",
    "    \n",
    "    Example idiom is 'behind closed doors' and function output will be\n",
    "    ['The', 'deal', 'was', 'negotiated', 'behind', 'closed', 'doors', '.']\n",
    "    ['O', 'O', 'O', 'O', 'B-PIE', 'I-PIE', 'I-PIE', 'O']\n",
    "    '''\n",
    "    word_tokens = []\n",
    "    pie_tokens = []\n",
    "    start = 0\n",
    "\n",
    "    is_first_pie_token = True\n",
    "\n",
    "    if not offsets:\n",
    "        word_tokens = text.split()\n",
    "        pie_tokens = ['O'] * len(word_tokens)\n",
    "        return word_tokens, pie_tokens\n",
    "\n",
    "    for offset in offsets:\n",
    "        offset_start = offset[0]\n",
    "        offset_end = offset[1]\n",
    "\n",
    "        # Add tokens before current offset\n",
    "        substr = text[start:offset_start]\n",
    "        substr_tokens = substr.split()\n",
    "        word_tokens.extend(substr_tokens)\n",
    "        pie_tokens.extend(['O'] * len(substr_tokens))\n",
    "\n",
    "        # Add offset tokens\n",
    "        substr = text[offset_start:offset_end]\n",
    "        substr_tokens = substr.split()\n",
    "        word_tokens.extend(substr_tokens)\n",
    "\n",
    "        sbstr_pie_tokens = ['I-PIE'] * len(substr_tokens)\n",
    "        if is_first_pie_token:\n",
    "            sbstr_pie_tokens[0] = 'B-PIE'\n",
    "            is_first_pie_token = False\n",
    "        pie_tokens.extend(sbstr_pie_tokens)\n",
    "        start = offset_end\n",
    "\n",
    "    # Add the substring after the last offset\n",
    "    substr = text[start:]\n",
    "    substr_tokens = substr.split()\n",
    "    word_tokens.extend(substr_tokens)\n",
    "    pie_tokens.extend(['O'] * len(substr_tokens))\n",
    "\n",
    "    return word_tokens, pie_tokens"
   ]
  },
  {
   "attachments": {},
   "cell_type": "markdown",
   "metadata": {},
   "source": [
    "Remove PIEs offsets from controversial objects. From docs:<br>\n",
    "`PIE_label: label indicating whether this sentence contains the PIE in question ('y') or not ('n')`\n",
    "\n",
    "For example 'They do this even though they may break the conventions from time to time .'\n",
    "doesn't contain 'break even' idiom"
   ]
  },
  {
   "cell_type": "code",
   "execution_count": 7,
   "metadata": {},
   "outputs": [
    {
     "data": {
      "text/plain": [
       "n    1189\n",
       "y    1050\n",
       "Name: PIE_label, dtype: int64"
      ]
     },
     "execution_count": 7,
     "metadata": {},
     "output_type": "execute_result"
    }
   ],
   "source": [
    "pie_df['PIE_label'].value_counts()"
   ]
  },
  {
   "cell_type": "code",
   "execution_count": 8,
   "metadata": {},
   "outputs": [],
   "source": [
    "pie_df.loc[pie_df['PIE_label'] == 'n', 'offsets'] = None "
   ]
  },
  {
   "attachments": {},
   "cell_type": "markdown",
   "metadata": {},
   "source": [
    "Extract NERs"
   ]
  },
  {
   "cell_type": "code",
   "execution_count": 9,
   "metadata": {},
   "outputs": [],
   "source": [
    "# take only 3-rd sentence with NER inside\n",
    "pie_df['context_pie_only'] = pd.DataFrame(pie_df['context'].to_list())[2]"
   ]
  },
  {
   "cell_type": "code",
   "execution_count": 10,
   "metadata": {},
   "outputs": [],
   "source": [
    "pie_df[['tokens', 'ner_tags']] = pie_df.apply(lambda x: tokenize_text(x.context_pie_only, x.offsets), \n",
    "             axis=1, result_type='expand')"
   ]
  },
  {
   "attachments": {},
   "cell_type": "markdown",
   "metadata": {},
   "source": [
    "Select only relevant features for final view "
   ]
  },
  {
   "cell_type": "code",
   "execution_count": 11,
   "metadata": {},
   "outputs": [],
   "source": [
    "pie_df['is_pie'] = pie_df['PIE_label'] == 'y'"
   ]
  },
  {
   "cell_type": "code",
   "execution_count": 12,
   "metadata": {},
   "outputs": [],
   "source": [
    "pie_df = pie_df[['idiom', 'is_pie', 'tokens', 'ner_tags']]"
   ]
  },
  {
   "cell_type": "code",
   "execution_count": 13,
   "metadata": {},
   "outputs": [
    {
     "data": {
      "text/html": [
       "<div>\n",
       "<style scoped>\n",
       "    .dataframe tbody tr th:only-of-type {\n",
       "        vertical-align: middle;\n",
       "    }\n",
       "\n",
       "    .dataframe tbody tr th {\n",
       "        vertical-align: top;\n",
       "    }\n",
       "\n",
       "    .dataframe thead th {\n",
       "        text-align: right;\n",
       "    }\n",
       "</style>\n",
       "<table border=\"1\" class=\"dataframe\">\n",
       "  <thead>\n",
       "    <tr style=\"text-align: right;\">\n",
       "      <th></th>\n",
       "      <th>idiom</th>\n",
       "      <th>is_pie</th>\n",
       "      <th>tokens</th>\n",
       "      <th>ner_tags</th>\n",
       "    </tr>\n",
       "  </thead>\n",
       "  <tbody>\n",
       "    <tr>\n",
       "      <th>0</th>\n",
       "      <td>all along</td>\n",
       "      <td>True</td>\n",
       "      <td>[All, along, ,, as, I, reported, at, the, time...</td>\n",
       "      <td>[B-PIE, I-PIE, O, O, O, O, O, O, O, O, O, O, O...</td>\n",
       "    </tr>\n",
       "    <tr>\n",
       "      <th>1</th>\n",
       "      <td>all along</td>\n",
       "      <td>False</td>\n",
       "      <td>[You, will, have, received, a, copy, of, my, h...</td>\n",
       "      <td>[O, O, O, O, O, O, O, O, O, O, O, O, O, O, O, ...</td>\n",
       "    </tr>\n",
       "    <tr>\n",
       "      <th>2</th>\n",
       "      <td>all over the place</td>\n",
       "      <td>True</td>\n",
       "      <td>[Commandos, were, digging, in, all, over, the,...</td>\n",
       "      <td>[O, O, O, O, B-PIE, I-PIE, O, I-PIE, O]</td>\n",
       "    </tr>\n",
       "    <tr>\n",
       "      <th>3</th>\n",
       "      <td>at sea</td>\n",
       "      <td>True</td>\n",
       "      <td>[All, too, often, he, was, away, at, sea, on, ...</td>\n",
       "      <td>[O, O, O, O, O, O, B-PIE, I-PIE, O, O, O, O]</td>\n",
       "    </tr>\n",
       "    <tr>\n",
       "      <th>4</th>\n",
       "      <td>at the end of the day</td>\n",
       "      <td>True</td>\n",
       "      <td>[for, example, ,, when, it, is, 4, o'clock, in...</td>\n",
       "      <td>[O, O, O, O, O, O, O, O, O, O, O, O, O, O, O, ...</td>\n",
       "    </tr>\n",
       "  </tbody>\n",
       "</table>\n",
       "</div>"
      ],
      "text/plain": [
       "                   idiom  is_pie  \\\n",
       "0              all along    True   \n",
       "1              all along   False   \n",
       "2     all over the place    True   \n",
       "3                 at sea    True   \n",
       "4  at the end of the day    True   \n",
       "\n",
       "                                              tokens  \\\n",
       "0  [All, along, ,, as, I, reported, at, the, time...   \n",
       "1  [You, will, have, received, a, copy, of, my, h...   \n",
       "2  [Commandos, were, digging, in, all, over, the,...   \n",
       "3  [All, too, often, he, was, away, at, sea, on, ...   \n",
       "4  [for, example, ,, when, it, is, 4, o'clock, in...   \n",
       "\n",
       "                                            ner_tags  \n",
       "0  [B-PIE, I-PIE, O, O, O, O, O, O, O, O, O, O, O...  \n",
       "1  [O, O, O, O, O, O, O, O, O, O, O, O, O, O, O, ...  \n",
       "2            [O, O, O, O, B-PIE, I-PIE, O, I-PIE, O]  \n",
       "3       [O, O, O, O, O, O, B-PIE, I-PIE, O, O, O, O]  \n",
       "4  [O, O, O, O, O, O, O, O, O, O, O, O, O, O, O, ...  "
      ]
     },
     "execution_count": 13,
     "metadata": {},
     "output_type": "execute_result"
    }
   ],
   "source": [
    "pie_df.head()"
   ]
  },
  {
   "attachments": {},
   "cell_type": "markdown",
   "metadata": {},
   "source": [
    "## Prepare MAGPIE data"
   ]
  },
  {
   "cell_type": "code",
   "execution_count": 14,
   "metadata": {},
   "outputs": [
    {
     "data": {
      "text/html": [
       "<div>\n",
       "<style scoped>\n",
       "    .dataframe tbody tr th:only-of-type {\n",
       "        vertical-align: middle;\n",
       "    }\n",
       "\n",
       "    .dataframe tbody tr th {\n",
       "        vertical-align: top;\n",
       "    }\n",
       "\n",
       "    .dataframe thead th {\n",
       "        text-align: right;\n",
       "    }\n",
       "</style>\n",
       "<table border=\"1\" class=\"dataframe\">\n",
       "  <thead>\n",
       "    <tr style=\"text-align: right;\">\n",
       "      <th></th>\n",
       "      <th>confidence</th>\n",
       "      <th>context</th>\n",
       "      <th>document_id</th>\n",
       "      <th>genre</th>\n",
       "      <th>id</th>\n",
       "      <th>idiom</th>\n",
       "      <th>judgment_count</th>\n",
       "      <th>label</th>\n",
       "      <th>label_distribution</th>\n",
       "      <th>non_standard_usage_explanations</th>\n",
       "      <th>offsets</th>\n",
       "      <th>sentence_no</th>\n",
       "      <th>split</th>\n",
       "      <th>variant_type</th>\n",
       "    </tr>\n",
       "  </thead>\n",
       "  <tbody>\n",
       "    <tr>\n",
       "      <th>0</th>\n",
       "      <td>1.0</td>\n",
       "      <td>[, , One can not come to terms with the past ,...</td>\n",
       "      <td>p39d1118</td>\n",
       "      <td>PMB</td>\n",
       "      <td>0</td>\n",
       "      <td>come to terms with</td>\n",
       "      <td>3</td>\n",
       "      <td>i</td>\n",
       "      <td>{'?': 0.0, 'f': 0.0, 'i': 1.0, 'l': 0.0, 'o': ...</td>\n",
       "      <td>[]</td>\n",
       "      <td>[[12, 16], [17, 19], [20, 25], [26, 30]]</td>\n",
       "      <td>0</td>\n",
       "      <td>training</td>\n",
       "      <td>identical</td>\n",
       "    </tr>\n",
       "    <tr>\n",
       "      <th>1</th>\n",
       "      <td>1.0</td>\n",
       "      <td>[And there may be one or two other things we w...</td>\n",
       "      <td>J97</td>\n",
       "      <td>S meeting</td>\n",
       "      <td>1</td>\n",
       "      <td>call it a day</td>\n",
       "      <td>3</td>\n",
       "      <td>i</td>\n",
       "      <td>{'?': 0.0, 'f': 0.0, 'i': 1.0, 'l': 0.0, 'o': ...</td>\n",
       "      <td>[]</td>\n",
       "      <td>[[9, 13], [14, 16], [19, 22]]</td>\n",
       "      <td>470</td>\n",
       "      <td>training</td>\n",
       "      <td>identical</td>\n",
       "    </tr>\n",
       "  </tbody>\n",
       "</table>\n",
       "</div>"
      ],
      "text/plain": [
       "   confidence                                            context document_id  \\\n",
       "0         1.0  [, , One can not come to terms with the past ,...    p39d1118   \n",
       "1         1.0  [And there may be one or two other things we w...         J97   \n",
       "\n",
       "       genre  id               idiom  judgment_count label  \\\n",
       "0        PMB   0  come to terms with               3     i   \n",
       "1  S meeting   1       call it a day               3     i   \n",
       "\n",
       "                                  label_distribution  \\\n",
       "0  {'?': 0.0, 'f': 0.0, 'i': 1.0, 'l': 0.0, 'o': ...   \n",
       "1  {'?': 0.0, 'f': 0.0, 'i': 1.0, 'l': 0.0, 'o': ...   \n",
       "\n",
       "  non_standard_usage_explanations                                   offsets  \\\n",
       "0                              []  [[12, 16], [17, 19], [20, 25], [26, 30]]   \n",
       "1                              []             [[9, 13], [14, 16], [19, 22]]   \n",
       "\n",
       "   sentence_no     split variant_type  \n",
       "0            0  training    identical  \n",
       "1          470  training    identical  "
      ]
     },
     "execution_count": 14,
     "metadata": {},
     "output_type": "execute_result"
    }
   ],
   "source": [
    "magpie_df.head(2)"
   ]
  },
  {
   "cell_type": "code",
   "execution_count": 15,
   "metadata": {},
   "outputs": [
    {
     "data": {
      "image/png": "[encoded data removed]",
      "text/plain": [
       "<Figure size 1000x300 with 1 Axes>"
      ]
     },
     "metadata": {},
     "output_type": "display_data"
    }
   ],
   "source": [
    "plt.figure(figsize=(10, 3))\n",
    "plt.title('MAGPIE labels confidence distribution')\n",
    "sns.histplot(magpie_df['confidence'], edgecolor='black', bins=20)\n",
    "plt.xlabel('Annotation confidence level')\n",
    "plt.ylabel('Objects amount')\n",
    "plt.show()"
   ]
  },
  {
   "cell_type": "markdown",
   "metadata": {},
   "source": [
    "Based on the analogy of the author of the corpus, we will use a threshold value of 75% confidence. \n",
    "In analogy with the PIE corpus, all examples with a value below the threshold will receive a False label."
   ]
  },
  {
   "cell_type": "code",
   "execution_count": 16,
   "metadata": {},
   "outputs": [],
   "source": [
    "magpie_df['is_pie'] = magpie_df['confidence'] > 0.75\n",
    "magpie_df.loc[magpie_df['is_pie'] == False, 'offsets'] = None "
   ]
  },
  {
   "cell_type": "code",
   "execution_count": 17,
   "metadata": {},
   "outputs": [],
   "source": [
    "magpie_df['context_pie_only'] = pd.DataFrame(magpie_df['context'].to_list())[2]"
   ]
  },
  {
   "cell_type": "code",
   "execution_count": 18,
   "metadata": {},
   "outputs": [],
   "source": [
    "magpie_df[['tokens', 'ner_tags']] = magpie_df.apply(lambda x: tokenize_text(x.context_pie_only, x.offsets), \n",
    "             axis=1, result_type='expand')"
   ]
  },
  {
   "cell_type": "code",
   "execution_count": 19,
   "metadata": {},
   "outputs": [],
   "source": [
    "magpie_df = magpie_df[['idiom', 'is_pie', 'tokens', 'ner_tags']]"
   ]
  },
  {
   "cell_type": "code",
   "execution_count": 20,
   "metadata": {},
   "outputs": [
    {
     "data": {
      "text/html": [
       "<div>\n",
       "<style scoped>\n",
       "    .dataframe tbody tr th:only-of-type {\n",
       "        vertical-align: middle;\n",
       "    }\n",
       "\n",
       "    .dataframe tbody tr th {\n",
       "        vertical-align: top;\n",
       "    }\n",
       "\n",
       "    .dataframe thead th {\n",
       "        text-align: right;\n",
       "    }\n",
       "</style>\n",
       "<table border=\"1\" class=\"dataframe\">\n",
       "  <thead>\n",
       "    <tr style=\"text-align: right;\">\n",
       "      <th></th>\n",
       "      <th>idiom</th>\n",
       "      <th>is_pie</th>\n",
       "      <th>tokens</th>\n",
       "      <th>ner_tags</th>\n",
       "    </tr>\n",
       "  </thead>\n",
       "  <tbody>\n",
       "    <tr>\n",
       "      <th>0</th>\n",
       "      <td>come to terms with</td>\n",
       "      <td>True</td>\n",
       "      <td>[One, can, not, come, to, terms, with, the, pa...</td>\n",
       "      <td>[O, O, O, B-PIE, I-PIE, I-PIE, I-PIE, O, O, O,...</td>\n",
       "    </tr>\n",
       "    <tr>\n",
       "      <th>1</th>\n",
       "      <td>call it a day</td>\n",
       "      <td>True</td>\n",
       "      <td>[We, might, call, it, a, day, at, the, end, of...</td>\n",
       "      <td>[O, O, B-PIE, I-PIE, O, I-PIE, O, O, O, O, O, ...</td>\n",
       "    </tr>\n",
       "    <tr>\n",
       "      <th>2</th>\n",
       "      <td>out of the blue</td>\n",
       "      <td>True</td>\n",
       "      <td>[‘, Well, ,, it, 's, a, recognised, symptom, o...</td>\n",
       "      <td>[O, O, O, O, O, O, O, O, O, O, O, O, O, O, O, ...</td>\n",
       "    </tr>\n",
       "    <tr>\n",
       "      <th>3</th>\n",
       "      <td>full tilt</td>\n",
       "      <td>True</td>\n",
       "      <td>[Taking, the, EG-1, first, ,, the, HFS, bridge...</td>\n",
       "      <td>[O, O, O, O, O, O, O, O, O, O, O, O, O, O, O, ...</td>\n",
       "    </tr>\n",
       "    <tr>\n",
       "      <th>4</th>\n",
       "      <td>on paper</td>\n",
       "      <td>True</td>\n",
       "      <td>[Generally, speaking, ,, re, -, sit, paper, er...</td>\n",
       "      <td>[O, O, O, O, O, O, O, O, O, O, O, O, O, O, O, ...</td>\n",
       "    </tr>\n",
       "  </tbody>\n",
       "</table>\n",
       "</div>"
      ],
      "text/plain": [
       "                idiom  is_pie  \\\n",
       "0  come to terms with    True   \n",
       "1       call it a day    True   \n",
       "2     out of the blue    True   \n",
       "3           full tilt    True   \n",
       "4            on paper    True   \n",
       "\n",
       "                                              tokens  \\\n",
       "0  [One, can, not, come, to, terms, with, the, pa...   \n",
       "1  [We, might, call, it, a, day, at, the, end, of...   \n",
       "2  [‘, Well, ,, it, 's, a, recognised, symptom, o...   \n",
       "3  [Taking, the, EG-1, first, ,, the, HFS, bridge...   \n",
       "4  [Generally, speaking, ,, re, -, sit, paper, er...   \n",
       "\n",
       "                                            ner_tags  \n",
       "0  [O, O, O, B-PIE, I-PIE, I-PIE, I-PIE, O, O, O,...  \n",
       "1  [O, O, B-PIE, I-PIE, O, I-PIE, O, O, O, O, O, ...  \n",
       "2  [O, O, O, O, O, O, O, O, O, O, O, O, O, O, O, ...  \n",
       "3  [O, O, O, O, O, O, O, O, O, O, O, O, O, O, O, ...  \n",
       "4  [O, O, O, O, O, O, O, O, O, O, O, O, O, O, O, ...  "
      ]
     },
     "execution_count": 20,
     "metadata": {},
     "output_type": "execute_result"
    }
   ],
   "source": [
    "magpie_df.head()"
   ]
  },
  {
   "attachments": {},
   "cell_type": "markdown",
   "metadata": {},
   "source": [
    "## Convert DataFrames to HuggingFace Dataset"
   ]
  },
  {
   "cell_type": "code",
   "execution_count": 21,
   "metadata": {},
   "outputs": [],
   "source": [
    "df = pd.concat([pie_df, magpie_df], ignore_index=True)"
   ]
  },
  {
   "attachments": {},
   "cell_type": "markdown",
   "metadata": {},
   "source": [
    "Remove duplicates"
   ]
  },
  {
   "cell_type": "code",
   "execution_count": 22,
   "metadata": {},
   "outputs": [
    {
     "name": "stdout",
     "output_type": "stream",
     "text": [
      "Duplicates amount:1691\n",
      "Duplicates ratio 0.029\n"
     ]
    }
   ],
   "source": [
    "dupl_amount = df['tokens'].str.join(sep='').duplicated().sum()\n",
    "print(f'Duplicates amount:{dupl_amount}')\n",
    "print(f'Duplicates ratio {dupl_amount/len(df) :.3f}')\n"
   ]
  },
  {
   "cell_type": "code",
   "execution_count": 23,
   "metadata": {},
   "outputs": [],
   "source": [
    "df = df.loc[~df['tokens'].str.join(sep='').duplicated(), :].reset_index(drop=True)"
   ]
  },
  {
   "cell_type": "code",
   "execution_count": 24,
   "metadata": {},
   "outputs": [
    {
     "data": {
      "text/html": [
       "<div>\n",
       "<style scoped>\n",
       "    .dataframe tbody tr th:only-of-type {\n",
       "        vertical-align: middle;\n",
       "    }\n",
       "\n",
       "    .dataframe tbody tr th {\n",
       "        vertical-align: top;\n",
       "    }\n",
       "\n",
       "    .dataframe thead th {\n",
       "        text-align: right;\n",
       "    }\n",
       "</style>\n",
       "<table border=\"1\" class=\"dataframe\">\n",
       "  <thead>\n",
       "    <tr style=\"text-align: right;\">\n",
       "      <th></th>\n",
       "      <th>idiom</th>\n",
       "      <th>is_pie</th>\n",
       "      <th>tokens</th>\n",
       "      <th>ner_tags</th>\n",
       "    </tr>\n",
       "  </thead>\n",
       "  <tbody>\n",
       "    <tr>\n",
       "      <th>0</th>\n",
       "      <td>all along</td>\n",
       "      <td>True</td>\n",
       "      <td>[All, along, ,, as, I, reported, at, the, time...</td>\n",
       "      <td>[B-PIE, I-PIE, O, O, O, O, O, O, O, O, O, O, O...</td>\n",
       "    </tr>\n",
       "    <tr>\n",
       "      <th>1</th>\n",
       "      <td>all along</td>\n",
       "      <td>False</td>\n",
       "      <td>[You, will, have, received, a, copy, of, my, h...</td>\n",
       "      <td>[O, O, O, O, O, O, O, O, O, O, O, O, O, O, O, ...</td>\n",
       "    </tr>\n",
       "    <tr>\n",
       "      <th>2</th>\n",
       "      <td>all over the place</td>\n",
       "      <td>True</td>\n",
       "      <td>[Commandos, were, digging, in, all, over, the,...</td>\n",
       "      <td>[O, O, O, O, B-PIE, I-PIE, O, I-PIE, O]</td>\n",
       "    </tr>\n",
       "    <tr>\n",
       "      <th>3</th>\n",
       "      <td>at sea</td>\n",
       "      <td>True</td>\n",
       "      <td>[All, too, often, he, was, away, at, sea, on, ...</td>\n",
       "      <td>[O, O, O, O, O, O, B-PIE, I-PIE, O, O, O, O]</td>\n",
       "    </tr>\n",
       "    <tr>\n",
       "      <th>4</th>\n",
       "      <td>at the end of the day</td>\n",
       "      <td>True</td>\n",
       "      <td>[for, example, ,, when, it, is, 4, o'clock, in...</td>\n",
       "      <td>[O, O, O, O, O, O, O, O, O, O, O, O, O, O, O, ...</td>\n",
       "    </tr>\n",
       "  </tbody>\n",
       "</table>\n",
       "</div>"
      ],
      "text/plain": [
       "                   idiom  is_pie  \\\n",
       "0              all along    True   \n",
       "1              all along   False   \n",
       "2     all over the place    True   \n",
       "3                 at sea    True   \n",
       "4  at the end of the day    True   \n",
       "\n",
       "                                              tokens  \\\n",
       "0  [All, along, ,, as, I, reported, at, the, time...   \n",
       "1  [You, will, have, received, a, copy, of, my, h...   \n",
       "2  [Commandos, were, digging, in, all, over, the,...   \n",
       "3  [All, too, often, he, was, away, at, sea, on, ...   \n",
       "4  [for, example, ,, when, it, is, 4, o'clock, in...   \n",
       "\n",
       "                                            ner_tags  \n",
       "0  [B-PIE, I-PIE, O, O, O, O, O, O, O, O, O, O, O...  \n",
       "1  [O, O, O, O, O, O, O, O, O, O, O, O, O, O, O, ...  \n",
       "2            [O, O, O, O, B-PIE, I-PIE, O, I-PIE, O]  \n",
       "3       [O, O, O, O, O, O, B-PIE, I-PIE, O, O, O, O]  \n",
       "4  [O, O, O, O, O, O, O, O, O, O, O, O, O, O, O, ...  "
      ]
     },
     "execution_count": 24,
     "metadata": {},
     "output_type": "execute_result"
    }
   ],
   "source": [
    "df.head()"
   ]
  },
  {
   "cell_type": "code",
   "execution_count": 25,
   "metadata": {},
   "outputs": [],
   "source": [
    "df.to_csv('../data/processed/final_data.csv')"
   ]
  },
  {
   "cell_type": "code",
   "execution_count": 26,
   "metadata": {},
   "outputs": [
    {
     "data": {
      "image/png": "[encoded data removed]",
      "text/plain": [
       "<Figure size 1000x300 with 1 Axes>"
      ]
     },
     "metadata": {},
     "output_type": "display_data"
    }
   ],
   "source": [
    "plt.figure(figsize=(10, 3))\n",
    "plt.title('True vs False PIEs amount')\n",
    "df['is_pie'].value_counts().plot(kind='bar')\n",
    "plt.xticks(rotation=0)\n",
    "plt.show()"
   ]
  },
  {
   "cell_type": "code",
   "execution_count": 27,
   "metadata": {},
   "outputs": [],
   "source": [
    "train, valid_test = train_test_split(df, test_size=0.2, \n",
    "                                     stratify = df['is_pie'],\n",
    "                                     shuffle=True, \n",
    "                                     random_state=SEED)\n",
    "\n",
    "valid, test = train_test_split(valid_test, test_size=0.5, \n",
    "                                     stratify = valid_test['is_pie'],\n",
    "                                     shuffle=True, \n",
    "                                     random_state=SEED)"
   ]
  },
  {
   "cell_type": "code",
   "execution_count": 28,
   "metadata": {},
   "outputs": [
    {
     "data": {
      "text/plain": [
       "(45736, 5717, 5717)"
      ]
     },
     "execution_count": 28,
     "metadata": {},
     "output_type": "execute_result"
    }
   ],
   "source": [
    "len(train), len(valid), len(test)"
   ]
  },
  {
   "cell_type": "code",
   "execution_count": 29,
   "metadata": {},
   "outputs": [
    {
     "name": "stdout",
     "output_type": "stream",
     "text": [
      "True     38506\n",
      "False     7230\n",
      "Name: is_pie, dtype: int64\n",
      "True     4813\n",
      "False     904\n",
      "Name: is_pie, dtype: int64\n",
      "True     4813\n",
      "False     904\n",
      "Name: is_pie, dtype: int64\n"
     ]
    }
   ],
   "source": [
    "print(train['is_pie'].value_counts())\n",
    "print(valid['is_pie'].value_counts())\n",
    "print(test['is_pie'].value_counts())"
   ]
  },
  {
   "cell_type": "markdown",
   "metadata": {},
   "source": [
    "Define feature schema and create DatasetDict"
   ]
  },
  {
   "cell_type": "code",
   "execution_count": 30,
   "metadata": {},
   "outputs": [],
   "source": [
    "features = Features({\"idiom\": Value(\"string\"), \n",
    "                     \"is_pie\": Value(\"bool\"),\n",
    "                     \"tokens\": Sequence(Value('string')),\n",
    "                     \"ner_tags\": Sequence(ClassLabel(num_classes=3, names=['O', 'B-PIE', 'I-PIE'])) })\n",
    "                     "
   ]
  },
  {
   "cell_type": "code",
   "execution_count": 35,
   "metadata": {},
   "outputs": [],
   "source": [
    "dataset_dict = DatasetDict()\n",
    "dataset_dict['train'] = Dataset.from_pandas(train, features=features, preserve_index=False)\n",
    "dataset_dict['validation'] = Dataset.from_pandas(valid, features=features, preserve_index=False)\n",
    "dataset_dict['test'] = Dataset.from_pandas(test, features=features, preserve_index=False)"
   ]
  },
  {
   "cell_type": "code",
   "execution_count": 36,
   "metadata": {},
   "outputs": [
    {
     "data": {
      "text/plain": [
       "DatasetDict({\n",
       "    train: Dataset({\n",
       "        features: ['idiom', 'is_pie', 'tokens', 'ner_tags'],\n",
       "        num_rows: 45736\n",
       "    })\n",
       "    validation: Dataset({\n",
       "        features: ['idiom', 'is_pie', 'tokens', 'ner_tags'],\n",
       "        num_rows: 5717\n",
       "    })\n",
       "    test: Dataset({\n",
       "        features: ['idiom', 'is_pie', 'tokens', 'ner_tags'],\n",
       "        num_rows: 5717\n",
       "    })\n",
       "})"
      ]
     },
     "execution_count": 36,
     "metadata": {},
     "output_type": "execute_result"
    }
   ],
   "source": [
    "dataset_dict"
   ]
  },
  {
   "cell_type": "code",
   "execution_count": 37,
   "metadata": {},
   "outputs": [
    {
     "data": {
      "text/plain": [
       "{'idiom': Value(dtype='string', id=None),\n",
       " 'is_pie': Value(dtype='bool', id=None),\n",
       " 'tokens': Sequence(feature=Value(dtype='string', id=None), length=-1, id=None),\n",
       " 'ner_tags': Sequence(feature=ClassLabel(names=['O', 'B-PIE', 'I-PIE'], id=None), length=-1, id=None)}"
      ]
     },
     "execution_count": 37,
     "metadata": {},
     "output_type": "execute_result"
    }
   ],
   "source": [
    "dataset_dict['train'].features"
   ]
  },
  {
   "attachments": {},
   "cell_type": "markdown",
   "metadata": {},
   "source": [
    "Save locally and push to hub"
   ]
  },
  {
   "cell_type": "code",
   "execution_count": 40,
   "metadata": {},
   "outputs": [
    {
     "data": {
      "application/vnd.jupyter.widget-view+json": {
       "model_id": "43fc1a6b391449acb82a4f0a802fcf36",
       "version_major": 2,
       "version_minor": 0
      },
      "text/plain": [
       "Saving the dataset (0/1 shards):   0%|          | 0/45736 [00:00<?, ? examples/s]"
      ]
     },
     "metadata": {},
     "output_type": "display_data"
    },
    {
     "data": {
      "application/vnd.jupyter.widget-view+json": {
       "model_id": "3c49f14341784097b432dac2519739fa",
       "version_major": 2,
       "version_minor": 0
      },
      "text/plain": [
       "Saving the dataset (0/1 shards):   0%|          | 0/5717 [00:00<?, ? examples/s]"
      ]
     },
     "metadata": {},
     "output_type": "display_data"
    },
    {
     "data": {
      "application/vnd.jupyter.widget-view+json": {
       "model_id": "957b8fcf7d414037aada0f00c0b8d4ca",
       "version_major": 2,
       "version_minor": 0
      },
      "text/plain": [
       "Saving the dataset (0/1 shards):   0%|          | 0/5717 [00:00<?, ? examples/s]"
      ]
     },
     "metadata": {},
     "output_type": "display_data"
    }
   ],
   "source": [
    "dataset_dict.save_to_disk('../data/processed/pie_dataset')"
   ]
  },
  {
   "cell_type": "code",
   "execution_count": 42,
   "metadata": {},
   "outputs": [
    {
     "name": "stdout",
     "output_type": "stream",
     "text": [
      "Token is valid.\n",
      "\u001b[1m\u001b[31mCannot authenticate through git-credential as no helper is defined on your machine.\n",
      "You might have to re-authenticate when pushing to the Hugging Face Hub.\n",
      "Run the following command in your terminal in case you want to set the 'store' credential helper as default.\n",
      "\n",
      "git config --global credential.helper store\n",
      "\n",
      "Read https://git-scm.com/book/en/v2/Git-Tools-Credential-Storage for more details.\u001b[0m\n",
      "Token has not been saved to git credential helper.\n",
      "Your token has been saved to /home/grigoriy/.cache/huggingface/token\n",
      "Login successful\n"
     ]
    }
   ],
   "source": [
    "login()"
   ]
  },
  {
   "cell_type": "code",
   "execution_count": 43,
   "metadata": {},
   "outputs": [
    {
     "name": "stderr",
     "output_type": "stream",
     "text": [
      "Pushing split train to the Hub.\n"
     ]
    },
    {
     "data": {
      "application/vnd.jupyter.widget-view+json": {
       "model_id": "463fd380fdb044779c2eba56bc109e78",
       "version_major": 2,
       "version_minor": 0
      },
      "text/plain": [
       "Pushing dataset shards to the dataset hub:   0%|          | 0/1 [00:00<?, ?it/s]"
      ]
     },
     "metadata": {},
     "output_type": "display_data"
    },
    {
     "data": {
      "application/vnd.jupyter.widget-view+json": {
       "model_id": "d26465650b574628a85b5240e5e505dd",
       "version_major": 2,
       "version_minor": 0
      },
      "text/plain": [
       "Creating parquet from Arrow format:   0%|          | 0/46 [00:00<?, ?ba/s]"
      ]
     },
     "metadata": {},
     "output_type": "display_data"
    },
    {
     "data": {
      "application/vnd.jupyter.widget-view+json": {
       "model_id": "29ce65c331be409cb338246825ee34b3",
       "version_major": 2,
       "version_minor": 0
      },
      "text/plain": [
       "Upload 1 LFS files:   0%|          | 0/1 [00:00<?, ?it/s]"
      ]
     },
     "metadata": {},
     "output_type": "display_data"
    },
    {
     "name": "stderr",
     "output_type": "stream",
     "text": [
      "Pushing split validation to the Hub.\n"
     ]
    },
    {
     "data": {
      "application/vnd.jupyter.widget-view+json": {
       "model_id": "5319ebfb79ba484ca01ba244feb5a206",
       "version_major": 2,
       "version_minor": 0
      },
      "text/plain": [
       "Pushing dataset shards to the dataset hub:   0%|          | 0/1 [00:00<?, ?it/s]"
      ]
     },
     "metadata": {},
     "output_type": "display_data"
    },
    {
     "data": {
      "application/vnd.jupyter.widget-view+json": {
       "model_id": "b5d1dc88dab741be80211d1e7f44b010",
       "version_major": 2,
       "version_minor": 0
      },
      "text/plain": [
       "Creating parquet from Arrow format:   0%|          | 0/6 [00:00<?, ?ba/s]"
      ]
     },
     "metadata": {},
     "output_type": "display_data"
    },
    {
     "data": {
      "application/vnd.jupyter.widget-view+json": {
       "model_id": "6e1fd048e4fa4aa8a8528d6a60c86656",
       "version_major": 2,
       "version_minor": 0
      },
      "text/plain": [
       "Upload 1 LFS files:   0%|          | 0/1 [00:00<?, ?it/s]"
      ]
     },
     "metadata": {},
     "output_type": "display_data"
    },
    {
     "name": "stderr",
     "output_type": "stream",
     "text": [
      "Pushing split test to the Hub.\n"
     ]
    },
    {
     "data": {
      "application/vnd.jupyter.widget-view+json": {
       "model_id": "1810e66e679d43e4862950a1c320d8fe",
       "version_major": 2,
       "version_minor": 0
      },
      "text/plain": [
       "Pushing dataset shards to the dataset hub:   0%|          | 0/1 [00:00<?, ?it/s]"
      ]
     },
     "metadata": {},
     "output_type": "display_data"
    },
    {
     "data": {
      "application/vnd.jupyter.widget-view+json": {
       "model_id": "4df7ac05d66b4923add120ffceea9738",
       "version_major": 2,
       "version_minor": 0
      },
      "text/plain": [
       "Creating parquet from Arrow format:   0%|          | 0/6 [00:00<?, ?ba/s]"
      ]
     },
     "metadata": {},
     "output_type": "display_data"
    },
    {
     "data": {
      "application/vnd.jupyter.widget-view+json": {
       "model_id": "566e1f9f5e3a430f815ffc3b02d28ff7",
       "version_major": 2,
       "version_minor": 0
      },
      "text/plain": [
       "Upload 1 LFS files:   0%|          | 0/1 [00:00<?, ?it/s]"
      ]
     },
     "metadata": {},
     "output_type": "display_data"
    },
    {
     "data": {
      "application/vnd.jupyter.widget-view+json": {
       "model_id": "7e0ca7ed863d4e84a4af078202a0f065",
       "version_major": 2,
       "version_minor": 0
      },
      "text/plain": [
       "Downloading metadata:   0%|          | 0.00/21.0 [00:00<?, ?B/s]"
      ]
     },
     "metadata": {},
     "output_type": "display_data"
    }
   ],
   "source": [
    "dataset_dict.push_to_hub(\"Gooogr/pie_idioms\")"
   ]
  },
  {
   "cell_type": "code",
   "execution_count": null,
   "metadata": {},
   "outputs": [],
   "source": []
  }
 ],
 "metadata": {
  "kernelspec": {
   "display_name": "idioms",
   "language": "python",
   "name": "python3"
  },
  "language_info": {
   "codemirror_mode": {
    "name": "ipython",
    "version": 3
   },
   "file_extension": ".py",
   "mimetype": "text/x-python",
   "name": "python",
   "nbconvert_exporter": "python",
   "pygments_lexer": "ipython3",
   "version": "3.9.16"
  },
  "orig_nbformat": 4
 },
 "nbformat": 4,
 "nbformat_minor": 2
}
