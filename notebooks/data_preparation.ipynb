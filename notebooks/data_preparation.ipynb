{
 "cells": [
  {
   "cell_type": "code",
   "execution_count": 56,
   "metadata": {},
   "outputs": [],
   "source": [
    "import pandas as pd\n",
    "import matplotlib.pyplot as plt\n",
    "import seaborn as sns\n",
    "from sklearn.model_selection import train_test_split\n",
    "from datasets import Dataset, DatasetDict\n",
    "from datasets import Value, ClassLabel, Features, Sequence\n",
    "from collections import defaultdict\n",
    "from huggingface_hub import login\n",
    "from tokenization_helper import tokenize_text, tokenize_with_context"
   ]
  },
  {
   "attachments": {},
   "cell_type": "markdown",
   "metadata": {},
   "source": [
    "This notebook convert raw JSONs of PIE and MAGPIE dataset to HuggingFace Dataset format for NER task. "
   ]
  },
  {
   "cell_type": "code",
   "execution_count": 57,
   "metadata": {},
   "outputs": [],
   "source": [
    "PATH_PIE = '../data/raw/PIE_annotations_all_v2.json'\n",
    "PATH_MAGPIE = '../data/raw/magpie-corpus.jsonl'\n",
    "\n",
    "SEED = 42"
   ]
  },
  {
   "attachments": {},
   "cell_type": "markdown",
   "metadata": {},
   "source": [
    "## Read data"
   ]
  },
  {
   "cell_type": "code",
   "execution_count": 58,
   "metadata": {},
   "outputs": [],
   "source": [
    "pie_df = pd.read_json(PATH_PIE)\n",
    "magpie_df = pd.read_json(PATH_MAGPIE, lines=True)"
   ]
  },
  {
   "cell_type": "code",
   "execution_count": 59,
   "metadata": {},
   "outputs": [
    {
     "data": {
      "text/html": [
       "<div>\n",
       "<style scoped>\n",
       "    .dataframe tbody tr th:only-of-type {\n",
       "        vertical-align: middle;\n",
       "    }\n",
       "\n",
       "    .dataframe tbody tr th {\n",
       "        vertical-align: top;\n",
       "    }\n",
       "\n",
       "    .dataframe thead th {\n",
       "        text-align: right;\n",
       "    }\n",
       "</style>\n",
       "<table border=\"1\" class=\"dataframe\">\n",
       "  <thead>\n",
       "    <tr style=\"text-align: right;\">\n",
       "      <th></th>\n",
       "      <th>sense_label</th>\n",
       "      <th>offsets</th>\n",
       "      <th>idiom</th>\n",
       "      <th>PIE_label</th>\n",
       "      <th>sentence_number</th>\n",
       "      <th>context</th>\n",
       "      <th>context_untokenized</th>\n",
       "      <th>document_id</th>\n",
       "    </tr>\n",
       "  </thead>\n",
       "  <tbody>\n",
       "    <tr>\n",
       "      <th>0</th>\n",
       "      <td>y</td>\n",
       "      <td>[[0, 3], [4, 9]]</td>\n",
       "      <td>all along</td>\n",
       "      <td>y</td>\n",
       "      <td>3239</td>\n",
       "      <td>[She was said to be callous , selfish , irresp...</td>\n",
       "      <td>[She was said to be callous, selfish, irrespon...</td>\n",
       "      <td>CH1</td>\n",
       "    </tr>\n",
       "    <tr>\n",
       "      <th>1</th>\n",
       "      <td>?</td>\n",
       "      <td>[[118, 121], [225, 230]]</td>\n",
       "      <td>all along</td>\n",
       "      <td>n</td>\n",
       "      <td>1279</td>\n",
       "      <td>[Dear Tim , David and Geoff, Microconcord, You...</td>\n",
       "      <td>[Dear Tim, David and Geoff, Microconcord, You ...</td>\n",
       "      <td>AP1</td>\n",
       "    </tr>\n",
       "    <tr>\n",
       "      <th>2</th>\n",
       "      <td>y</td>\n",
       "      <td>[[26, 29], [30, 34], [39, 44]]</td>\n",
       "      <td>all over the place</td>\n",
       "      <td>y</td>\n",
       "      <td>65</td>\n",
       "      <td>[The way things were going I thought it was ti...</td>\n",
       "      <td>[The way things were going I thought it was ti...</td>\n",
       "      <td>A61</td>\n",
       "    </tr>\n",
       "    <tr>\n",
       "      <th>3</th>\n",
       "      <td>n</td>\n",
       "      <td>[[26, 28], [29, 32]]</td>\n",
       "      <td>at sea</td>\n",
       "      <td>y</td>\n",
       "      <td>3220</td>\n",
       "      <td>[Even in his early days , when I did an end-of...</td>\n",
       "      <td>[Even in his early days, when I did an end-of-...</td>\n",
       "      <td>CH1</td>\n",
       "    </tr>\n",
       "    <tr>\n",
       "      <th>4</th>\n",
       "      <td>n</td>\n",
       "      <td>[[333, 335], [340, 343], [344, 346], [351, 354]]</td>\n",
       "      <td>at the end of the day</td>\n",
       "      <td>y</td>\n",
       "      <td>1343</td>\n",
       "      <td>[Matters are made easier for us in the United ...</td>\n",
       "      <td>[Matters are made easier for us in the United ...</td>\n",
       "      <td>A75</td>\n",
       "    </tr>\n",
       "  </tbody>\n",
       "</table>\n",
       "</div>"
      ],
      "text/plain": [
       "  sense_label                                           offsets  \\\n",
       "0           y                                  [[0, 3], [4, 9]]   \n",
       "1           ?                          [[118, 121], [225, 230]]   \n",
       "2           y                    [[26, 29], [30, 34], [39, 44]]   \n",
       "3           n                              [[26, 28], [29, 32]]   \n",
       "4           n  [[333, 335], [340, 343], [344, 346], [351, 354]]   \n",
       "\n",
       "                   idiom PIE_label  sentence_number  \\\n",
       "0              all along         y             3239   \n",
       "1              all along         n             1279   \n",
       "2     all over the place         y               65   \n",
       "3                 at sea         y             3220   \n",
       "4  at the end of the day         y             1343   \n",
       "\n",
       "                                             context  \\\n",
       "0  [She was said to be callous , selfish , irresp...   \n",
       "1  [Dear Tim , David and Geoff, Microconcord, You...   \n",
       "2  [The way things were going I thought it was ti...   \n",
       "3  [Even in his early days , when I did an end-of...   \n",
       "4  [Matters are made easier for us in the United ...   \n",
       "\n",
       "                                 context_untokenized document_id  \n",
       "0  [She was said to be callous, selfish, irrespon...         CH1  \n",
       "1  [Dear Tim, David and Geoff, Microconcord, You ...         AP1  \n",
       "2  [The way things were going I thought it was ti...         A61  \n",
       "3  [Even in his early days, when I did an end-of-...         CH1  \n",
       "4  [Matters are made easier for us in the United ...         A75  "
      ]
     },
     "execution_count": 59,
     "metadata": {},
     "output_type": "execute_result"
    }
   ],
   "source": [
    "pie_df.head()"
   ]
  },
  {
   "cell_type": "code",
   "execution_count": 60,
   "metadata": {},
   "outputs": [
    {
     "name": "stdout",
     "output_type": "stream",
     "text": [
      "<class 'pandas.core.frame.DataFrame'>\n",
      "RangeIndex: 2239 entries, 0 to 2238\n",
      "Data columns (total 8 columns):\n",
      " #   Column               Non-Null Count  Dtype \n",
      "---  ------               --------------  ----- \n",
      " 0   sense_label          2239 non-null   object\n",
      " 1   offsets              2239 non-null   object\n",
      " 2   idiom                2239 non-null   object\n",
      " 3   PIE_label            2239 non-null   object\n",
      " 4   sentence_number      2239 non-null   int64 \n",
      " 5   context              2239 non-null   object\n",
      " 6   context_untokenized  2239 non-null   object\n",
      " 7   document_id          2239 non-null   object\n",
      "dtypes: int64(1), object(7)\n",
      "memory usage: 140.1+ KB\n"
     ]
    }
   ],
   "source": [
    "pie_df.info()"
   ]
  },
  {
   "cell_type": "code",
   "execution_count": 61,
   "metadata": {},
   "outputs": [
    {
     "data": {
      "text/html": [
       "<div>\n",
       "<style scoped>\n",
       "    .dataframe tbody tr th:only-of-type {\n",
       "        vertical-align: middle;\n",
       "    }\n",
       "\n",
       "    .dataframe tbody tr th {\n",
       "        vertical-align: top;\n",
       "    }\n",
       "\n",
       "    .dataframe thead th {\n",
       "        text-align: right;\n",
       "    }\n",
       "</style>\n",
       "<table border=\"1\" class=\"dataframe\">\n",
       "  <thead>\n",
       "    <tr style=\"text-align: right;\">\n",
       "      <th></th>\n",
       "      <th>confidence</th>\n",
       "      <th>context</th>\n",
       "      <th>document_id</th>\n",
       "      <th>genre</th>\n",
       "      <th>id</th>\n",
       "      <th>idiom</th>\n",
       "      <th>judgment_count</th>\n",
       "      <th>label</th>\n",
       "      <th>label_distribution</th>\n",
       "      <th>non_standard_usage_explanations</th>\n",
       "      <th>offsets</th>\n",
       "      <th>sentence_no</th>\n",
       "      <th>split</th>\n",
       "      <th>variant_type</th>\n",
       "    </tr>\n",
       "  </thead>\n",
       "  <tbody>\n",
       "    <tr>\n",
       "      <th>0</th>\n",
       "      <td>1.0</td>\n",
       "      <td>[, , One can not come to terms with the past ,...</td>\n",
       "      <td>p39d1118</td>\n",
       "      <td>PMB</td>\n",
       "      <td>0</td>\n",
       "      <td>come to terms with</td>\n",
       "      <td>3</td>\n",
       "      <td>i</td>\n",
       "      <td>{'?': 0.0, 'f': 0.0, 'i': 1.0, 'l': 0.0, 'o': ...</td>\n",
       "      <td>[]</td>\n",
       "      <td>[[12, 16], [17, 19], [20, 25], [26, 30]]</td>\n",
       "      <td>0</td>\n",
       "      <td>training</td>\n",
       "      <td>identical</td>\n",
       "    </tr>\n",
       "    <tr>\n",
       "      <th>1</th>\n",
       "      <td>1.0</td>\n",
       "      <td>[And there may be one or two other things we w...</td>\n",
       "      <td>J97</td>\n",
       "      <td>S meeting</td>\n",
       "      <td>1</td>\n",
       "      <td>call it a day</td>\n",
       "      <td>3</td>\n",
       "      <td>i</td>\n",
       "      <td>{'?': 0.0, 'f': 0.0, 'i': 1.0, 'l': 0.0, 'o': ...</td>\n",
       "      <td>[]</td>\n",
       "      <td>[[9, 13], [14, 16], [19, 22]]</td>\n",
       "      <td>470</td>\n",
       "      <td>training</td>\n",
       "      <td>identical</td>\n",
       "    </tr>\n",
       "    <tr>\n",
       "      <th>2</th>\n",
       "      <td>1.0</td>\n",
       "      <td>[It was the first thing I asked.’, Lindsey nod...</td>\n",
       "      <td>JXW</td>\n",
       "      <td>W fict prose</td>\n",
       "      <td>2</td>\n",
       "      <td>out of the blue</td>\n",
       "      <td>3</td>\n",
       "      <td>i</td>\n",
       "      <td>{'?': 0.0, 'f': 0.0, 'i': 1.0, 'l': 0.0, 'o': ...</td>\n",
       "      <td>[]</td>\n",
       "      <td>[[77, 80], [81, 83], [88, 92]]</td>\n",
       "      <td>1202</td>\n",
       "      <td>training</td>\n",
       "      <td>identical</td>\n",
       "    </tr>\n",
       "    <tr>\n",
       "      <th>3</th>\n",
       "      <td>1.0</td>\n",
       "      <td>[When I took these two guitars into the studio...</td>\n",
       "      <td>C9M</td>\n",
       "      <td>W pop lore</td>\n",
       "      <td>3</td>\n",
       "      <td>full tilt</td>\n",
       "      <td>5</td>\n",
       "      <td>i</td>\n",
       "      <td>{'?': 0.0, 'f': 0.0, 'i': 1.0, 'l': 0.0, 'o': ...</td>\n",
       "      <td>[]</td>\n",
       "      <td>[[234, 238], [239, 243]]</td>\n",
       "      <td>1117</td>\n",
       "      <td>training</td>\n",
       "      <td>identical</td>\n",
       "    </tr>\n",
       "    <tr>\n",
       "      <th>4</th>\n",
       "      <td>1.0</td>\n",
       "      <td>[Now , generally speaking wi I I I 've act wha...</td>\n",
       "      <td>JT1</td>\n",
       "      <td>S lect soc science</td>\n",
       "      <td>4</td>\n",
       "      <td>on paper</td>\n",
       "      <td>3</td>\n",
       "      <td>l</td>\n",
       "      <td>{'?': 0.0, 'f': 0.0, 'i': 0.0, 'l': 1.0, 'o': ...</td>\n",
       "      <td>[]</td>\n",
       "      <td>[[102, 104], [115, 120]]</td>\n",
       "      <td>291</td>\n",
       "      <td>training</td>\n",
       "      <td>insertion-other</td>\n",
       "    </tr>\n",
       "  </tbody>\n",
       "</table>\n",
       "</div>"
      ],
      "text/plain": [
       "   confidence                                            context document_id  \\\n",
       "0         1.0  [, , One can not come to terms with the past ,...    p39d1118   \n",
       "1         1.0  [And there may be one or two other things we w...         J97   \n",
       "2         1.0  [It was the first thing I asked.’, Lindsey nod...         JXW   \n",
       "3         1.0  [When I took these two guitars into the studio...         C9M   \n",
       "4         1.0  [Now , generally speaking wi I I I 've act wha...         JT1   \n",
       "\n",
       "                genre  id               idiom  judgment_count label  \\\n",
       "0                 PMB   0  come to terms with               3     i   \n",
       "1           S meeting   1       call it a day               3     i   \n",
       "2        W fict prose   2     out of the blue               3     i   \n",
       "3          W pop lore   3           full tilt               5     i   \n",
       "4  S lect soc science   4            on paper               3     l   \n",
       "\n",
       "                                  label_distribution  \\\n",
       "0  {'?': 0.0, 'f': 0.0, 'i': 1.0, 'l': 0.0, 'o': ...   \n",
       "1  {'?': 0.0, 'f': 0.0, 'i': 1.0, 'l': 0.0, 'o': ...   \n",
       "2  {'?': 0.0, 'f': 0.0, 'i': 1.0, 'l': 0.0, 'o': ...   \n",
       "3  {'?': 0.0, 'f': 0.0, 'i': 1.0, 'l': 0.0, 'o': ...   \n",
       "4  {'?': 0.0, 'f': 0.0, 'i': 0.0, 'l': 1.0, 'o': ...   \n",
       "\n",
       "  non_standard_usage_explanations                                   offsets  \\\n",
       "0                              []  [[12, 16], [17, 19], [20, 25], [26, 30]]   \n",
       "1                              []             [[9, 13], [14, 16], [19, 22]]   \n",
       "2                              []            [[77, 80], [81, 83], [88, 92]]   \n",
       "3                              []                  [[234, 238], [239, 243]]   \n",
       "4                              []                  [[102, 104], [115, 120]]   \n",
       "\n",
       "   sentence_no     split     variant_type  \n",
       "0            0  training        identical  \n",
       "1          470  training        identical  \n",
       "2         1202  training        identical  \n",
       "3         1117  training        identical  \n",
       "4          291  training  insertion-other  "
      ]
     },
     "execution_count": 61,
     "metadata": {},
     "output_type": "execute_result"
    }
   ],
   "source": [
    "magpie_df.head()"
   ]
  },
  {
   "cell_type": "code",
   "execution_count": 62,
   "metadata": {},
   "outputs": [
    {
     "name": "stdout",
     "output_type": "stream",
     "text": [
      "<class 'pandas.core.frame.DataFrame'>\n",
      "RangeIndex: 56622 entries, 0 to 56621\n",
      "Data columns (total 14 columns):\n",
      " #   Column                           Non-Null Count  Dtype  \n",
      "---  ------                           --------------  -----  \n",
      " 0   confidence                       56622 non-null  float64\n",
      " 1   context                          56622 non-null  object \n",
      " 2   document_id                      56622 non-null  object \n",
      " 3   genre                            56622 non-null  object \n",
      " 4   id                               56622 non-null  int64  \n",
      " 5   idiom                            56622 non-null  object \n",
      " 6   judgment_count                   56622 non-null  int64  \n",
      " 7   label                            56622 non-null  object \n",
      " 8   label_distribution               56622 non-null  object \n",
      " 9   non_standard_usage_explanations  56622 non-null  object \n",
      " 10  offsets                          56622 non-null  object \n",
      " 11  sentence_no                      56622 non-null  int64  \n",
      " 12  split                            56622 non-null  object \n",
      " 13  variant_type                     56622 non-null  object \n",
      "dtypes: float64(1), int64(3), object(10)\n",
      "memory usage: 6.0+ MB\n"
     ]
    }
   ],
   "source": [
    "magpie_df.info()"
   ]
  },
  {
   "cell_type": "markdown",
   "metadata": {},
   "source": [
    "## Prepare PIE data"
   ]
  },
  {
   "attachments": {},
   "cell_type": "markdown",
   "metadata": {},
   "source": [
    "Remove PIEs offsets from controversial objects. From docs:<br>\n",
    "`PIE_label: label indicating whether this sentence contains the PIE in question ('y') or not ('n')`\n",
    "\n",
    "For example 'They do this even though they may break the conventions from time to time .'\n",
    "doesn't contain 'break even' idiom"
   ]
  },
  {
   "cell_type": "code",
   "execution_count": 63,
   "metadata": {},
   "outputs": [
    {
     "data": {
      "text/plain": [
       "PIE_label\n",
       "n    1189\n",
       "y    1050\n",
       "Name: count, dtype: int64"
      ]
     },
     "execution_count": 63,
     "metadata": {},
     "output_type": "execute_result"
    }
   ],
   "source": [
    "pie_df['PIE_label'].value_counts()"
   ]
  },
  {
   "cell_type": "code",
   "execution_count": 64,
   "metadata": {},
   "outputs": [],
   "source": [
    "pie_df.loc[pie_df['PIE_label'] == 'n', 'offsets'] = None "
   ]
  },
  {
   "attachments": {},
   "cell_type": "markdown",
   "metadata": {},
   "source": [
    "Extract NERs"
   ]
  },
  {
   "cell_type": "code",
   "execution_count": 65,
   "metadata": {},
   "outputs": [],
   "source": [
    "# take only 3-rd sentence with NER inside\n",
    "# pie_df['context_pie_only'] = pd.DataFrame(pie_df['context'].to_list())[2]\n",
    "\n",
    "# pie_df[['tokens', 'ner_tags']] = pie_df.apply(lambda x: tokenize_text(x.context_pie_only, x.offsets), \n",
    "#              axis=1, result_type='expand')"
   ]
  },
  {
   "cell_type": "code",
   "execution_count": 66,
   "metadata": {},
   "outputs": [],
   "source": [
    "pie_df[['tokens', 'ner_tags']] = pie_df.apply(lambda x: tokenize_with_context(x.context, x.offsets), \n",
    "             axis=1, result_type='expand')"
   ]
  },
  {
   "attachments": {},
   "cell_type": "markdown",
   "metadata": {},
   "source": [
    "Select only relevant features for final view "
   ]
  },
  {
   "cell_type": "code",
   "execution_count": 18,
   "metadata": {},
   "outputs": [],
   "source": [
    "pie_df['is_pie'] = pie_df['PIE_label'] == 'y'"
   ]
  },
  {
   "cell_type": "code",
   "execution_count": 30,
   "metadata": {},
   "outputs": [],
   "source": [
    "pie_df = pie_df[['idiom', 'is_pie', 'tokens', 'ner_tags']]"
   ]
  },
  {
   "cell_type": "code",
   "execution_count": 31,
   "metadata": {},
   "outputs": [
    {
     "data": {
      "text/html": [
       "<div>\n",
       "<style scoped>\n",
       "    .dataframe tbody tr th:only-of-type {\n",
       "        vertical-align: middle;\n",
       "    }\n",
       "\n",
       "    .dataframe tbody tr th {\n",
       "        vertical-align: top;\n",
       "    }\n",
       "\n",
       "    .dataframe thead th {\n",
       "        text-align: right;\n",
       "    }\n",
       "</style>\n",
       "<table border=\"1\" class=\"dataframe\">\n",
       "  <thead>\n",
       "    <tr style=\"text-align: right;\">\n",
       "      <th></th>\n",
       "      <th>idiom</th>\n",
       "      <th>is_pie</th>\n",
       "      <th>tokens</th>\n",
       "      <th>ner_tags</th>\n",
       "    </tr>\n",
       "  </thead>\n",
       "  <tbody>\n",
       "    <tr>\n",
       "      <th>0</th>\n",
       "      <td>all along</td>\n",
       "      <td>True</td>\n",
       "      <td>[She, was, said, to, be, callous, ,, selfish, ...</td>\n",
       "      <td>[O, O, O, O, O, O, O, O, O, O, O, O, O, O, O, ...</td>\n",
       "    </tr>\n",
       "    <tr>\n",
       "      <th>1</th>\n",
       "      <td>all along</td>\n",
       "      <td>False</td>\n",
       "      <td>[Dear, Tim, ,, David, and, Geoff, Microconcord...</td>\n",
       "      <td>[O, O, O, O, O, O, O, O, O, O, O, O, O, O, O, ...</td>\n",
       "    </tr>\n",
       "    <tr>\n",
       "      <th>2</th>\n",
       "      <td>all over the place</td>\n",
       "      <td>True</td>\n",
       "      <td>[The, way, things, were, going, I, thought, it...</td>\n",
       "      <td>[O, O, O, O, O, O, O, O, O, O, O, O, O, O, O, ...</td>\n",
       "    </tr>\n",
       "    <tr>\n",
       "      <th>3</th>\n",
       "      <td>at sea</td>\n",
       "      <td>True</td>\n",
       "      <td>[Even, in, his, early, days, ,, when, I, did, ...</td>\n",
       "      <td>[O, O, O, O, O, O, O, O, O, O, O, O, O, O, O, ...</td>\n",
       "    </tr>\n",
       "    <tr>\n",
       "      <th>4</th>\n",
       "      <td>at the end of the day</td>\n",
       "      <td>True</td>\n",
       "      <td>[Matters, are, made, easier, for, us, in, the,...</td>\n",
       "      <td>[O, O, O, O, O, O, O, O, O, O, O, O, O, O, O, ...</td>\n",
       "    </tr>\n",
       "  </tbody>\n",
       "</table>\n",
       "</div>"
      ],
      "text/plain": [
       "                   idiom  is_pie  \\\n",
       "0              all along    True   \n",
       "1              all along   False   \n",
       "2     all over the place    True   \n",
       "3                 at sea    True   \n",
       "4  at the end of the day    True   \n",
       "\n",
       "                                              tokens  \\\n",
       "0  [She, was, said, to, be, callous, ,, selfish, ...   \n",
       "1  [Dear, Tim, ,, David, and, Geoff, Microconcord...   \n",
       "2  [The, way, things, were, going, I, thought, it...   \n",
       "3  [Even, in, his, early, days, ,, when, I, did, ...   \n",
       "4  [Matters, are, made, easier, for, us, in, the,...   \n",
       "\n",
       "                                            ner_tags  \n",
       "0  [O, O, O, O, O, O, O, O, O, O, O, O, O, O, O, ...  \n",
       "1  [O, O, O, O, O, O, O, O, O, O, O, O, O, O, O, ...  \n",
       "2  [O, O, O, O, O, O, O, O, O, O, O, O, O, O, O, ...  \n",
       "3  [O, O, O, O, O, O, O, O, O, O, O, O, O, O, O, ...  \n",
       "4  [O, O, O, O, O, O, O, O, O, O, O, O, O, O, O, ...  "
      ]
     },
     "execution_count": 31,
     "metadata": {},
     "output_type": "execute_result"
    }
   ],
   "source": [
    "pie_df.head()"
   ]
  },
  {
   "attachments": {},
   "cell_type": "markdown",
   "metadata": {},
   "source": [
    "## Prepare MAGPIE data"
   ]
  },
  {
   "cell_type": "code",
   "execution_count": 24,
   "metadata": {},
   "outputs": [
    {
     "data": {
      "image/png": "[encoded data removed]",
      "text/plain": [
       "<Figure size 1000x300 with 1 Axes>"
      ]
     },
     "metadata": {},
     "output_type": "display_data"
    }
   ],
   "source": [
    "plt.figure(figsize=(10, 3))\n",
    "plt.title('MAGPIE labels confidence distribution')\n",
    "sns.histplot(magpie_df['confidence'], edgecolor='black', bins=20)\n",
    "plt.xlabel('Annotation confidence level')\n",
    "plt.ylabel('Objects amount')\n",
    "plt.show()"
   ]
  },
  {
   "cell_type": "markdown",
   "metadata": {},
   "source": [
    "Based on the analogy of the author of the corpus, we will use a threshold value of 75% confidence. \n",
    "In analogy with the PIE corpus, all examples with a value below the threshold will receive a False label."
   ]
  },
  {
   "cell_type": "code",
   "execution_count": 25,
   "metadata": {},
   "outputs": [],
   "source": [
    "magpie_df['is_pie'] = magpie_df['confidence'] > 0.75\n",
    "magpie_df.loc[magpie_df['is_pie'] == False, 'offsets'] = None "
   ]
  },
  {
   "cell_type": "code",
   "execution_count": null,
   "metadata": {},
   "outputs": [],
   "source": [
    "# magpie_df['context_pie_only'] = pd.DataFrame(magpie_df['context'].to_list())[2]\n",
    "# magpie_df[['tokens', 'ner_tags']] = magpie_df.apply(lambda x: tokenize_text(x.context_pie_only, x.offsets), \n",
    "#              axis=1, result_type='expand')"
   ]
  },
  {
   "cell_type": "code",
   "execution_count": 26,
   "metadata": {},
   "outputs": [],
   "source": [
    "magpie_df[['tokens', 'ner_tags']] = magpie_df.apply(lambda x: tokenize_with_context(x.context, x.offsets), \n",
    "             axis=1, result_type='expand')"
   ]
  },
  {
   "cell_type": "code",
   "execution_count": 29,
   "metadata": {},
   "outputs": [],
   "source": [
    "magpie_df = magpie_df[['idiom', 'is_pie', 'tokens', 'ner_tags']]"
   ]
  },
  {
   "cell_type": "code",
   "execution_count": 32,
   "metadata": {},
   "outputs": [
    {
     "data": {
      "text/html": [
       "<div>\n",
       "<style scoped>\n",
       "    .dataframe tbody tr th:only-of-type {\n",
       "        vertical-align: middle;\n",
       "    }\n",
       "\n",
       "    .dataframe tbody tr th {\n",
       "        vertical-align: top;\n",
       "    }\n",
       "\n",
       "    .dataframe thead th {\n",
       "        text-align: right;\n",
       "    }\n",
       "</style>\n",
       "<table border=\"1\" class=\"dataframe\">\n",
       "  <thead>\n",
       "    <tr style=\"text-align: right;\">\n",
       "      <th></th>\n",
       "      <th>idiom</th>\n",
       "      <th>is_pie</th>\n",
       "      <th>tokens</th>\n",
       "      <th>ner_tags</th>\n",
       "    </tr>\n",
       "  </thead>\n",
       "  <tbody>\n",
       "    <tr>\n",
       "      <th>0</th>\n",
       "      <td>come to terms with</td>\n",
       "      <td>True</td>\n",
       "      <td>[One, can, not, come, to, terms, with, the, pa...</td>\n",
       "      <td>[O, O, O, B-PIE, I-PIE, I-PIE, I-PIE, O, O, O,...</td>\n",
       "    </tr>\n",
       "    <tr>\n",
       "      <th>1</th>\n",
       "      <td>call it a day</td>\n",
       "      <td>True</td>\n",
       "      <td>[And, there, may, be, one, or, two, other, thi...</td>\n",
       "      <td>[O, O, O, O, O, O, O, O, O, O, O, O, O, O, O, ...</td>\n",
       "    </tr>\n",
       "    <tr>\n",
       "      <th>2</th>\n",
       "      <td>out of the blue</td>\n",
       "      <td>True</td>\n",
       "      <td>[It, was, the, first, thing, I, asked.’, Linds...</td>\n",
       "      <td>[O, O, O, O, O, O, O, O, O, O, O, O, O, O, O, ...</td>\n",
       "    </tr>\n",
       "    <tr>\n",
       "      <th>3</th>\n",
       "      <td>full tilt</td>\n",
       "      <td>True</td>\n",
       "      <td>[When, I, took, these, two, guitars, into, the...</td>\n",
       "      <td>[O, O, O, O, O, O, O, O, O, O, O, O, O, O, O, ...</td>\n",
       "    </tr>\n",
       "    <tr>\n",
       "      <th>4</th>\n",
       "      <td>on paper</td>\n",
       "      <td>True</td>\n",
       "      <td>[Now, ,, generally, speaking, wi, I, I, I, 've...</td>\n",
       "      <td>[O, O, O, O, O, O, O, O, O, O, O, O, O, O, O, ...</td>\n",
       "    </tr>\n",
       "  </tbody>\n",
       "</table>\n",
       "</div>"
      ],
      "text/plain": [
       "                idiom  is_pie  \\\n",
       "0  come to terms with    True   \n",
       "1       call it a day    True   \n",
       "2     out of the blue    True   \n",
       "3           full tilt    True   \n",
       "4            on paper    True   \n",
       "\n",
       "                                              tokens  \\\n",
       "0  [One, can, not, come, to, terms, with, the, pa...   \n",
       "1  [And, there, may, be, one, or, two, other, thi...   \n",
       "2  [It, was, the, first, thing, I, asked.’, Linds...   \n",
       "3  [When, I, took, these, two, guitars, into, the...   \n",
       "4  [Now, ,, generally, speaking, wi, I, I, I, 've...   \n",
       "\n",
       "                                            ner_tags  \n",
       "0  [O, O, O, B-PIE, I-PIE, I-PIE, I-PIE, O, O, O,...  \n",
       "1  [O, O, O, O, O, O, O, O, O, O, O, O, O, O, O, ...  \n",
       "2  [O, O, O, O, O, O, O, O, O, O, O, O, O, O, O, ...  \n",
       "3  [O, O, O, O, O, O, O, O, O, O, O, O, O, O, O, ...  \n",
       "4  [O, O, O, O, O, O, O, O, O, O, O, O, O, O, O, ...  "
      ]
     },
     "execution_count": 32,
     "metadata": {},
     "output_type": "execute_result"
    }
   ],
   "source": [
    "magpie_df.head()"
   ]
  },
  {
   "cell_type": "code",
   "execution_count": 35,
   "metadata": {},
   "outputs": [
    {
     "name": "stdout",
     "output_type": "stream",
     "text": [
      "['And', 'there', 'may', 'be', 'one', 'or', 'two', 'other', 'things', 'we', 'work', 'through', 'over', 'this', 'meeting', 'and', 'the', 'next', 'meeting', '.', 'We', 'are', 'close', 'to', 'the', 'end', 'of', 'erm', 'You', 'should', 'be', 'lively', 'signing', 'this', 'document', '.', 'We', 'might', 'call', 'it', 'a', 'day', 'at', 'the', 'end', 'of', 'the', 'assignments', 'and', 'take', 'Jenny', \"'s\", 'away', 'to', 'recap', ',', 'erm', 'lets', 'get', 'to', 'the', 'end', 'of', 'the', 'assignments', 'first', ',', 'Q', 'P9', '.', 'Where', 'is', 'Q', 'P9', '?', 'papers', 'rustling', 'This', 'one', 'I', 'think', 'we', 'should', 'give', 'a', 'little', 'thought', ',', 'because', 'this', 'is', 'the', 'one', 'I', 'think', 'where', 'oh', 'yes', 'this', 'is', 'going', 'to', 'get', 'complicated', 'because', 'I', 'have', 'now', 'been', 'given', 'a', 'quiff', 'and', 'a', 'few', 'suggestion', 'forms', 'about', 'it', 'You', 'said', 'you', 'did', \"n't\", 'have', 'the', 'print', 'of', 'it', ',', 'is', 'that', 'right', '?']\n",
      "['O', 'O', 'O', 'O', 'O', 'O', 'O', 'O', 'O', 'O', 'O', 'O', 'O', 'O', 'O', 'O', 'O', 'O', 'O', 'O', 'O', 'O', 'O', 'O', 'O', 'O', 'O', 'O', 'O', 'O', 'O', 'O', 'O', 'O', 'O', 'O', 'O', 'O', 'B-PIE', 'I-PIE', 'O', 'I-PIE', 'O', 'O', 'O', 'O', 'O', 'O', 'O', 'O', 'O', 'O', 'O', 'O', 'O', 'O', 'O', 'O', 'O', 'O', 'O', 'O', 'O', 'O', 'O', 'O', 'O', 'O', 'O', 'O', 'O', 'O', 'O', 'O', 'O', 'O', 'O', 'O', 'O', 'O', 'O', 'O', 'O', 'O', 'O', 'O', 'O', 'O', 'O', 'O', 'O', 'O', 'O', 'O', 'O', 'O', 'O', 'O', 'O', 'O', 'O', 'O', 'O', 'O', 'O', 'O', 'O', 'O', 'O', 'O', 'O', 'O', 'O', 'O', 'O', 'O', 'O', 'O', 'O', 'O', 'O', 'O', 'O', 'O', 'O', 'O', 'O', 'O', 'O', 'O', 'O', 'O', 'O', 'O']\n"
     ]
    }
   ],
   "source": [
    "print(magpie_df[\"tokens\"][1])\n",
    "print(magpie_df[\"ner_tags\"][1])"
   ]
  },
  {
   "attachments": {},
   "cell_type": "markdown",
   "metadata": {},
   "source": [
    "## Convert DataFrames to HuggingFace Dataset"
   ]
  },
  {
   "cell_type": "code",
   "execution_count": 38,
   "metadata": {},
   "outputs": [],
   "source": [
    "df = pd.concat([pie_df, magpie_df], ignore_index=True)"
   ]
  },
  {
   "attachments": {},
   "cell_type": "markdown",
   "metadata": {},
   "source": [
    "Remove duplicates"
   ]
  },
  {
   "cell_type": "code",
   "execution_count": 39,
   "metadata": {},
   "outputs": [
    {
     "name": "stdout",
     "output_type": "stream",
     "text": [
      "Duplicates amount:1248\n",
      "Duplicates ratio 0.021\n"
     ]
    }
   ],
   "source": [
    "dupl_amount = df['tokens'].str.join(sep='').duplicated().sum()\n",
    "print(f'Duplicates amount:{dupl_amount}')\n",
    "print(f'Duplicates ratio {dupl_amount/len(df) :.3f}')\n"
   ]
  },
  {
   "cell_type": "code",
   "execution_count": 40,
   "metadata": {},
   "outputs": [],
   "source": [
    "df = df.loc[~df['tokens'].str.join(sep='').duplicated(), :].reset_index(drop=True)"
   ]
  },
  {
   "cell_type": "code",
   "execution_count": 41,
   "metadata": {},
   "outputs": [
    {
     "data": {
      "text/html": [
       "<div>\n",
       "<style scoped>\n",
       "    .dataframe tbody tr th:only-of-type {\n",
       "        vertical-align: middle;\n",
       "    }\n",
       "\n",
       "    .dataframe tbody tr th {\n",
       "        vertical-align: top;\n",
       "    }\n",
       "\n",
       "    .dataframe thead th {\n",
       "        text-align: right;\n",
       "    }\n",
       "</style>\n",
       "<table border=\"1\" class=\"dataframe\">\n",
       "  <thead>\n",
       "    <tr style=\"text-align: right;\">\n",
       "      <th></th>\n",
       "      <th>idiom</th>\n",
       "      <th>is_pie</th>\n",
       "      <th>tokens</th>\n",
       "      <th>ner_tags</th>\n",
       "    </tr>\n",
       "  </thead>\n",
       "  <tbody>\n",
       "    <tr>\n",
       "      <th>0</th>\n",
       "      <td>all along</td>\n",
       "      <td>True</td>\n",
       "      <td>[She, was, said, to, be, callous, ,, selfish, ...</td>\n",
       "      <td>[O, O, O, O, O, O, O, O, O, O, O, O, O, O, O, ...</td>\n",
       "    </tr>\n",
       "    <tr>\n",
       "      <th>1</th>\n",
       "      <td>all along</td>\n",
       "      <td>False</td>\n",
       "      <td>[Dear, Tim, ,, David, and, Geoff, Microconcord...</td>\n",
       "      <td>[O, O, O, O, O, O, O, O, O, O, O, O, O, O, O, ...</td>\n",
       "    </tr>\n",
       "    <tr>\n",
       "      <th>2</th>\n",
       "      <td>all over the place</td>\n",
       "      <td>True</td>\n",
       "      <td>[The, way, things, were, going, I, thought, it...</td>\n",
       "      <td>[O, O, O, O, O, O, O, O, O, O, O, O, O, O, O, ...</td>\n",
       "    </tr>\n",
       "    <tr>\n",
       "      <th>3</th>\n",
       "      <td>at sea</td>\n",
       "      <td>True</td>\n",
       "      <td>[Even, in, his, early, days, ,, when, I, did, ...</td>\n",
       "      <td>[O, O, O, O, O, O, O, O, O, O, O, O, O, O, O, ...</td>\n",
       "    </tr>\n",
       "    <tr>\n",
       "      <th>4</th>\n",
       "      <td>at the end of the day</td>\n",
       "      <td>True</td>\n",
       "      <td>[Matters, are, made, easier, for, us, in, the,...</td>\n",
       "      <td>[O, O, O, O, O, O, O, O, O, O, O, O, O, O, O, ...</td>\n",
       "    </tr>\n",
       "  </tbody>\n",
       "</table>\n",
       "</div>"
      ],
      "text/plain": [
       "                   idiom  is_pie  \\\n",
       "0              all along    True   \n",
       "1              all along   False   \n",
       "2     all over the place    True   \n",
       "3                 at sea    True   \n",
       "4  at the end of the day    True   \n",
       "\n",
       "                                              tokens  \\\n",
       "0  [She, was, said, to, be, callous, ,, selfish, ...   \n",
       "1  [Dear, Tim, ,, David, and, Geoff, Microconcord...   \n",
       "2  [The, way, things, were, going, I, thought, it...   \n",
       "3  [Even, in, his, early, days, ,, when, I, did, ...   \n",
       "4  [Matters, are, made, easier, for, us, in, the,...   \n",
       "\n",
       "                                            ner_tags  \n",
       "0  [O, O, O, O, O, O, O, O, O, O, O, O, O, O, O, ...  \n",
       "1  [O, O, O, O, O, O, O, O, O, O, O, O, O, O, O, ...  \n",
       "2  [O, O, O, O, O, O, O, O, O, O, O, O, O, O, O, ...  \n",
       "3  [O, O, O, O, O, O, O, O, O, O, O, O, O, O, O, ...  \n",
       "4  [O, O, O, O, O, O, O, O, O, O, O, O, O, O, O, ...  "
      ]
     },
     "execution_count": 41,
     "metadata": {},
     "output_type": "execute_result"
    }
   ],
   "source": [
    "df.head()"
   ]
  },
  {
   "cell_type": "code",
   "execution_count": 42,
   "metadata": {},
   "outputs": [],
   "source": [
    "df.to_csv('../data/processed/final_data.csv')"
   ]
  },
  {
   "cell_type": "code",
   "execution_count": 43,
   "metadata": {},
   "outputs": [
    {
     "data": {
      "image/png": "[encoded data removed]",
      "text/plain": [
       "<Figure size 1000x300 with 1 Axes>"
      ]
     },
     "metadata": {},
     "output_type": "display_data"
    }
   ],
   "source": [
    "fig, ax = plt.subplots(figsize=(10, 3))\n",
    "plt.title('True vs False PIEs amount')\n",
    "df['is_pie'].value_counts().plot(kind='bar', ax=ax)\n",
    "ax.bar_label(ax.containers[-1], label_type='edge')\n",
    "plt.ylim([None, 60000])\n",
    "plt.xticks(rotation=0)\n",
    "plt.show()"
   ]
  },
  {
   "attachments": {},
   "cell_type": "markdown",
   "metadata": {},
   "source": [
    "Apply stratified split"
   ]
  },
  {
   "cell_type": "code",
   "execution_count": 44,
   "metadata": {},
   "outputs": [],
   "source": [
    "train, valid_test = train_test_split(df, test_size=0.2, \n",
    "                                     stratify = df['is_pie'],\n",
    "                                     shuffle=True, \n",
    "                                     random_state=SEED)\n",
    "\n",
    "valid, test = train_test_split(valid_test, test_size=0.5, \n",
    "                                     stratify = valid_test['is_pie'],\n",
    "                                     shuffle=True, \n",
    "                                     random_state=SEED)"
   ]
  },
  {
   "cell_type": "code",
   "execution_count": 45,
   "metadata": {},
   "outputs": [
    {
     "data": {
      "text/plain": [
       "(46090, 5761, 5762)"
      ]
     },
     "execution_count": 45,
     "metadata": {},
     "output_type": "execute_result"
    }
   ],
   "source": [
    "len(train), len(valid), len(test)"
   ]
  },
  {
   "cell_type": "code",
   "execution_count": 46,
   "metadata": {},
   "outputs": [
    {
     "name": "stdout",
     "output_type": "stream",
     "text": [
      "is_pie\n",
      "True     38800\n",
      "False     7290\n",
      "Name: count, dtype: int64\n",
      "is_pie\n",
      "True     4850\n",
      "False     911\n",
      "Name: count, dtype: int64\n",
      "is_pie\n",
      "True     4850\n",
      "False     912\n",
      "Name: count, dtype: int64\n"
     ]
    }
   ],
   "source": [
    "print(train['is_pie'].value_counts())\n",
    "print(valid['is_pie'].value_counts())\n",
    "print(test['is_pie'].value_counts())"
   ]
  },
  {
   "cell_type": "markdown",
   "metadata": {},
   "source": [
    "Define feature schema and create DatasetDict"
   ]
  },
  {
   "cell_type": "code",
   "execution_count": 47,
   "metadata": {},
   "outputs": [],
   "source": [
    "features = Features({\"idiom\": Value(\"string\"), \n",
    "                     \"is_pie\": Value(\"bool\"),\n",
    "                     \"tokens\": Sequence(Value('string')),\n",
    "                     \"ner_tags\": Sequence(ClassLabel(num_classes=3, names=['O', 'B-PIE', 'I-PIE'])) })\n",
    "                     "
   ]
  },
  {
   "cell_type": "code",
   "execution_count": 48,
   "metadata": {},
   "outputs": [],
   "source": [
    "dataset_dict = DatasetDict()\n",
    "dataset_dict['train'] = Dataset.from_pandas(train, features=features, preserve_index=False)\n",
    "dataset_dict['validation'] = Dataset.from_pandas(valid, features=features, preserve_index=False)\n",
    "dataset_dict['test'] = Dataset.from_pandas(test, features=features, preserve_index=False)"
   ]
  },
  {
   "cell_type": "code",
   "execution_count": 49,
   "metadata": {},
   "outputs": [
    {
     "data": {
      "text/plain": [
       "DatasetDict({\n",
       "    train: Dataset({\n",
       "        features: ['idiom', 'is_pie', 'tokens', 'ner_tags'],\n",
       "        num_rows: 46090\n",
       "    })\n",
       "    validation: Dataset({\n",
       "        features: ['idiom', 'is_pie', 'tokens', 'ner_tags'],\n",
       "        num_rows: 5761\n",
       "    })\n",
       "    test: Dataset({\n",
       "        features: ['idiom', 'is_pie', 'tokens', 'ner_tags'],\n",
       "        num_rows: 5762\n",
       "    })\n",
       "})"
      ]
     },
     "execution_count": 49,
     "metadata": {},
     "output_type": "execute_result"
    }
   ],
   "source": [
    "dataset_dict"
   ]
  },
  {
   "cell_type": "code",
   "execution_count": 50,
   "metadata": {},
   "outputs": [
    {
     "data": {
      "text/plain": [
       "{'idiom': Value(dtype='string', id=None),\n",
       " 'is_pie': Value(dtype='bool', id=None),\n",
       " 'tokens': Sequence(feature=Value(dtype='string', id=None), length=-1, id=None),\n",
       " 'ner_tags': Sequence(feature=ClassLabel(names=['O', 'B-PIE', 'I-PIE'], id=None), length=-1, id=None)}"
      ]
     },
     "execution_count": 50,
     "metadata": {},
     "output_type": "execute_result"
    }
   ],
   "source": [
    "dataset_dict['train'].features"
   ]
  },
  {
   "attachments": {},
   "cell_type": "markdown",
   "metadata": {},
   "source": [
    "Save locally and push to hub"
   ]
  },
  {
   "cell_type": "code",
   "execution_count": 51,
   "metadata": {},
   "outputs": [
    {
     "data": {
      "application/vnd.jupyter.widget-view+json": {
       "model_id": "4798f1155f8e49278e4062e325051536",
       "version_major": 2,
       "version_minor": 0
      },
      "text/plain": [
       "Saving the dataset (0/1 shards):   0%|          | 0/46090 [00:00<?, ? examples/s]"
      ]
     },
     "metadata": {},
     "output_type": "display_data"
    },
    {
     "data": {
      "application/vnd.jupyter.widget-view+json": {
       "model_id": "1c090a36b59d41f6b9a2803604923cf4",
       "version_major": 2,
       "version_minor": 0
      },
      "text/plain": [
       "Saving the dataset (0/1 shards):   0%|          | 0/5761 [00:00<?, ? examples/s]"
      ]
     },
     "metadata": {},
     "output_type": "display_data"
    },
    {
     "data": {
      "application/vnd.jupyter.widget-view+json": {
       "model_id": "a6cfb50df6f6439b881d3f047ee33305",
       "version_major": 2,
       "version_minor": 0
      },
      "text/plain": [
       "Saving the dataset (0/1 shards):   0%|          | 0/5762 [00:00<?, ? examples/s]"
      ]
     },
     "metadata": {},
     "output_type": "display_data"
    }
   ],
   "source": [
    "dataset_dict.save_to_disk('../data/processed/pie_dataset')"
   ]
  },
  {
   "cell_type": "code",
   "execution_count": null,
   "metadata": {},
   "outputs": [],
   "source": [
    "login()"
   ]
  },
  {
   "cell_type": "code",
   "execution_count": 53,
   "metadata": {},
   "outputs": [
    {
     "data": {
      "application/vnd.jupyter.widget-view+json": {
       "model_id": "533799d31fe64b50a82b2b150b046b8b",
       "version_major": 2,
       "version_minor": 0
      },
      "text/plain": [
       "VBox(children=(HTML(value='<center> <img\\nsrc=https://huggingface.co/front/assets/huggingface_logo-noborder.sv…"
      ]
     },
     "metadata": {},
     "output_type": "display_data"
    },
    {
     "name": "stderr",
     "output_type": "stream",
     "text": [
      "Pushing split train to the Hub.\n"
     ]
    },
    {
     "data": {
      "application/vnd.jupyter.widget-view+json": {
       "model_id": "53a778172e1f44fcbf15adb1ca8360ce",
       "version_major": 2,
       "version_minor": 0
      },
      "text/plain": [
       "Pushing dataset shards to the dataset hub:   0%|          | 0/1 [00:00<?, ?it/s]"
      ]
     },
     "metadata": {},
     "output_type": "display_data"
    },
    {
     "data": {
      "application/vnd.jupyter.widget-view+json": {
       "model_id": "8307a2f1c06e4e6d961b2bef1864cf3c",
       "version_major": 2,
       "version_minor": 0
      },
      "text/plain": [
       "Creating parquet from Arrow format:   0%|          | 0/47 [00:00<?, ?ba/s]"
      ]
     },
     "metadata": {},
     "output_type": "display_data"
    },
    {
     "data": {
      "application/vnd.jupyter.widget-view+json": {
       "model_id": "785c0a1923ad4dd3a51e906a3ce6996e",
       "version_major": 2,
       "version_minor": 0
      },
      "text/plain": [
       "Deleting unused files from dataset repository:   0%|          | 0/1 [00:00<?, ?it/s]"
      ]
     },
     "metadata": {},
     "output_type": "display_data"
    },
    {
     "name": "stderr",
     "output_type": "stream",
     "text": [
      "Pushing split validation to the Hub.\n"
     ]
    },
    {
     "data": {
      "application/vnd.jupyter.widget-view+json": {
       "model_id": "e5e08cc74d344dea8cfe1f222bfc44d1",
       "version_major": 2,
       "version_minor": 0
      },
      "text/plain": [
       "Pushing dataset shards to the dataset hub:   0%|          | 0/1 [00:00<?, ?it/s]"
      ]
     },
     "metadata": {},
     "output_type": "display_data"
    },
    {
     "data": {
      "application/vnd.jupyter.widget-view+json": {
       "model_id": "a106f7b638724183be51c6c2a21590bb",
       "version_major": 2,
       "version_minor": 0
      },
      "text/plain": [
       "Creating parquet from Arrow format:   0%|          | 0/6 [00:00<?, ?ba/s]"
      ]
     },
     "metadata": {},
     "output_type": "display_data"
    },
    {
     "data": {
      "application/vnd.jupyter.widget-view+json": {
       "model_id": "2fd963574aa04e9b93d130a65e13d6b3",
       "version_major": 2,
       "version_minor": 0
      },
      "text/plain": [
       "Deleting unused files from dataset repository:   0%|          | 0/1 [00:00<?, ?it/s]"
      ]
     },
     "metadata": {},
     "output_type": "display_data"
    },
    {
     "name": "stderr",
     "output_type": "stream",
     "text": [
      "Pushing split test to the Hub.\n"
     ]
    },
    {
     "data": {
      "application/vnd.jupyter.widget-view+json": {
       "model_id": "47d40f54861e482795ea0785310ea94a",
       "version_major": 2,
       "version_minor": 0
      },
      "text/plain": [
       "Pushing dataset shards to the dataset hub:   0%|          | 0/1 [00:00<?, ?it/s]"
      ]
     },
     "metadata": {},
     "output_type": "display_data"
    },
    {
     "data": {
      "application/vnd.jupyter.widget-view+json": {
       "model_id": "d0d971c06aaa449d9361379760534598",
       "version_major": 2,
       "version_minor": 0
      },
      "text/plain": [
       "Creating parquet from Arrow format:   0%|          | 0/6 [00:00<?, ?ba/s]"
      ]
     },
     "metadata": {},
     "output_type": "display_data"
    },
    {
     "data": {
      "application/vnd.jupyter.widget-view+json": {
       "model_id": "08451101ca594bfda3d36af9abf56ac0",
       "version_major": 2,
       "version_minor": 0
      },
      "text/plain": [
       "Deleting unused files from dataset repository:   0%|          | 0/1 [00:00<?, ?it/s]"
      ]
     },
     "metadata": {},
     "output_type": "display_data"
    }
   ],
   "source": [
    "\n",
    "dataset_dict.push_to_hub(\"Gooogr/pie_idioms\")"
   ]
  },
  {
   "cell_type": "code",
   "execution_count": null,
   "metadata": {},
   "outputs": [],
   "source": []
  }
 ],
 "metadata": {
  "kernelspec": {
   "display_name": "idioms",
   "language": "python",
   "name": "python3"
  },
  "language_info": {
   "codemirror_mode": {
    "name": "ipython",
    "version": 3
   },
   "file_extension": ".py",
   "mimetype": "text/x-python",
   "name": "python",
   "nbconvert_exporter": "python",
   "pygments_lexer": "ipython3",
   "version": "3.8.17"
  },
  "orig_nbformat": 4,
  "vscode": {
   "interpreter": {
    "hash": "c73e6cda88f45cd3262a3bc02cf7e06d8f47d9d1bab5bcac89f1bfbb1a6ba341"
   }
  }
 },
 "nbformat": 4,
 "nbformat_minor": 2
}
